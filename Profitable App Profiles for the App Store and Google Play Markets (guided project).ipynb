{
 "cells": [
  {
   "cell_type": "markdown",
   "metadata": {},
   "source": [
    "# Profitable apps for the Google Play and App Store markets\n",
    "Our goal for this project is to analyze data to help developers understand what kinds of apps are likely to attract more users, since our revenue consists of in-app adds."
   ]
  },
  {
   "cell_type": "code",
   "execution_count": 1,
   "metadata": {
    "scrolled": false
   },
   "outputs": [],
   "source": [
    "#opening files\n",
    "from csv import reader\n",
    "\n",
    "#opening android dataset\n",
    "opened_file = open('googleplaystore.csv', encoding='iso-8859-1')\n",
    "read_file = reader(opened_file)\n",
    "android = list(read_file)\n",
    "android_header = android[0]\n",
    "android = android[1:]\n",
    "\n",
    "#opening app store dataset\n",
    "opened_file = open('AppleStore.csv',encoding='iso-8859-1')\n",
    "read_file = reader(opened_file)\n",
    "ios = list(read_file)\n",
    "ios_header = ios[0]\n",
    "ios = ios[1:]"
   ]
  },
  {
   "cell_type": "code",
   "execution_count": 2,
   "metadata": {},
   "outputs": [],
   "source": [
    "def explore_data(dataset, start, end, rows_and_columns=False):\n",
    "    dataset_slice = dataset[start:end]\n",
    "    for row in dataset_slice:\n",
    "        print(row)\n",
    "        print('\\n')\n",
    "    if rows_and_columns:\n",
    "        print('Number of rows:',len(dataset))\n",
    "        print('Number of columns:',len(dataset[0]))"
   ]
  },
  {
   "cell_type": "code",
   "execution_count": 3,
   "metadata": {},
   "outputs": [
    {
     "name": "stdout",
     "output_type": "stream",
     "text": [
      "['App', 'Category', 'Rating', 'Reviews', 'Size', 'Installs', 'Type', 'Price', 'Content Rating', 'Genres', 'Last Updated', 'Current Ver', 'Android Ver']\n",
      "\n",
      "\n",
      "['Photo Editor & Candy Camera & Grid & ScrapBook', 'ART_AND_DESIGN', '4.1', '159', '19M', '10,000+', 'Free', '0', 'Everyone', 'Art & Design', 'January 7, 2018', '1.0.0', '4.0.3 and up']\n",
      "\n",
      "\n",
      "['Coloring book moana', 'ART_AND_DESIGN', '3.9', '967', '14M', '500,000+', 'Free', '0', 'Everyone', 'Art & Design;Pretend Play', 'January 15, 2018', '2.0.0', '4.0.3 and up']\n",
      "\n",
      "\n",
      "['U Launcher Lite â\\x80\\x93 FREE Live Cool Themes, Hide Apps', 'ART_AND_DESIGN', '4.7', '87510', '8.7M', '5,000,000+', 'Free', '0', 'Everyone', 'Art & Design', 'August 1, 2018', '1.2.4', '4.0.3 and up']\n",
      "\n",
      "\n",
      "Number of rows: 10841\n",
      "Number of columns: 13\n"
     ]
    }
   ],
   "source": [
    "print(android_header)\n",
    "print('\\n')\n",
    "explore_data(android,0,3,True)"
   ]
  },
  {
   "cell_type": "code",
   "execution_count": 4,
   "metadata": {},
   "outputs": [
    {
     "name": "stdout",
     "output_type": "stream",
     "text": [
      "['id', 'track_name', 'size_bytes', 'currency', 'price', 'rating_count_tot', 'rating_count_ver', 'user_rating', 'user_rating_ver', 'ver', 'cont_rating', 'prime_genre', 'sup_devices.num', 'ipadSc_urls.num', 'lang.num', 'vpp_lic']\n",
      "\n",
      "\n",
      "['284882215', 'Facebook', '389879808', 'USD', '0.0', '2974676', '212', '3.5', '3.5', '95.0', '4+', 'Social Networking', '37', '1', '29', '1']\n",
      "\n",
      "\n",
      "['389801252', 'Instagram', '113954816', 'USD', '0.0', '2161558', '1289', '4.5', '4.0', '10.23', '12+', 'Photo & Video', '37', '0', '29', '1']\n",
      "\n",
      "\n",
      "['529479190', 'Clash of Clans', '116476928', 'USD', '0.0', '2130805', '579', '4.5', '4.5', '9.24.12', '9+', 'Games', '38', '5', '18', '1']\n",
      "\n",
      "\n",
      "Number of rows: 7197\n",
      "Number of columns: 16\n"
     ]
    }
   ],
   "source": [
    "print(ios_header)\n",
    "print('\\n')\n",
    "explore_data(ios,0,3,True)"
   ]
  },
  {
   "cell_type": "code",
   "execution_count": 5,
   "metadata": {},
   "outputs": [],
   "source": [
    "del android[10472]"
   ]
  },
  {
   "cell_type": "markdown",
   "metadata": {},
   "source": [
    "Let's see if there are any duplicate apps in the googleplaystore.csv.\n",
    "To do this we first create 2 empty lists named `unique_apps` and `duplicate_apps`. Then using a `for` loop, we asign the name of an app to a variable `name` and check if the name occurs in `unique_apps`. If it does, then we `append` the app to the `duplicate_apps` list. If it doesn't, we `append` it to `unique_apps`. Lastly, we check the length of the list with duplicate data."
   ]
  },
  {
   "cell_type": "code",
   "execution_count": 6,
   "metadata": {},
   "outputs": [
    {
     "name": "stdout",
     "output_type": "stream",
     "text": [
      "Number of duplicate apps: 1181\n"
     ]
    }
   ],
   "source": [
    "unique_apps = []\n",
    "duplicate_apps = []\n",
    "\n",
    "for app in android:\n",
    "    name = app[0]\n",
    "    if name in unique_apps:\n",
    "        duplicate_apps.append(name)\n",
    "    else:\n",
    "        unique_apps.append(name)\n",
    "\n",
    "print('Number of duplicate apps:', len(duplicate_apps))"
   ]
  },
  {
   "cell_type": "markdown",
   "metadata": {},
   "source": [
    "As we can see, there are 1181 cases of duplicate data. Let's take Instagram for example."
   ]
  },
  {
   "cell_type": "code",
   "execution_count": 7,
   "metadata": {},
   "outputs": [
    {
     "name": "stdout",
     "output_type": "stream",
     "text": [
      "['Instagram', 'SOCIAL', '4.5', '66577313', 'Varies with device', '1,000,000,000+', 'Free', '0', 'Teen', 'Social', 'July 31, 2018', 'Varies with device', 'Varies with device']\n",
      "['Instagram', 'SOCIAL', '4.5', '66577446', 'Varies with device', '1,000,000,000+', 'Free', '0', 'Teen', 'Social', 'July 31, 2018', 'Varies with device', 'Varies with device']\n",
      "['Instagram', 'SOCIAL', '4.5', '66577313', 'Varies with device', '1,000,000,000+', 'Free', '0', 'Teen', 'Social', 'July 31, 2018', 'Varies with device', 'Varies with device']\n",
      "['Instagram', 'SOCIAL', '4.5', '66509917', 'Varies with device', '1,000,000,000+', 'Free', '0', 'Teen', 'Social', 'July 31, 2018', 'Varies with device', 'Varies with device']\n"
     ]
    }
   ],
   "source": [
    "for app in android:\n",
    "    if app[0] == 'Instagram':\n",
    "        print(app)"
   ]
  },
  {
   "cell_type": "markdown",
   "metadata": {},
   "source": [
    "If we examine the rows printed above, we can see, that the difference happens in the 4th row corresponding to 'ratings'. It's probably because the data was collected in different time. We can make it a criteria for removing rows. Instead of removing them randomly, we can keep the row with the highest number of reviews, because the higher the number, the later the data was collected. "
   ]
  },
  {
   "cell_type": "code",
   "execution_count": 8,
   "metadata": {},
   "outputs": [],
   "source": [
    "reviews_max = {}\n",
    "\n",
    "for app in android:\n",
    "    name = app[0]\n",
    "    n_reviews = float(app[3])\n",
    "    \n",
    "    if name in reviews_max and reviews_max[name] < n_reviews:\n",
    "        reviews_max[name] = n_reviews\n",
    "    elif name not in reviews_max:\n",
    "        reviews_max[name] = n_reviews"
   ]
  },
  {
   "cell_type": "markdown",
   "metadata": {},
   "source": [
    "In a previous cell, there were 1181 duplicate apps. The number of unique apps should be the difference between all aps and duplicates."
   ]
  },
  {
   "cell_type": "code",
   "execution_count": 9,
   "metadata": {},
   "outputs": [
    {
     "name": "stdout",
     "output_type": "stream",
     "text": [
      "expected length: 9659\n",
      "actual lenght: 9659\n"
     ]
    }
   ],
   "source": [
    "print('expected length:',len(android)-1181) #length of all aps - duplicates = number of unique apps\n",
    "print('actual lenght:',len(reviews_max)) #number of unique apps"
   ]
  },
  {
   "cell_type": "markdown",
   "metadata": {},
   "source": [
    "Now, I use the `reviews_max` dictionary to make a list of unique android apps. I'll only keep the records with the highest number of reviews."
   ]
  },
  {
   "cell_type": "code",
   "execution_count": 10,
   "metadata": {},
   "outputs": [],
   "source": [
    "android_clean = []\n",
    "already_added = []\n",
    "\n",
    "for app in android:\n",
    "    name = app[0]\n",
    "    n_reviews = float(app[3])\n",
    "    if n_reviews == reviews_max[name] and name not in already_added:\n",
    "        android_clean.append(app)\n",
    "        already_added.append(name)"
   ]
  },
  {
   "cell_type": "markdown",
   "metadata": {},
   "source": [
    "Now let's confirm, there are 9659 records."
   ]
  },
  {
   "cell_type": "code",
   "execution_count": 11,
   "metadata": {},
   "outputs": [
    {
     "name": "stdout",
     "output_type": "stream",
     "text": [
      "['Photo Editor & Candy Camera & Grid & ScrapBook', 'ART_AND_DESIGN', '4.1', '159', '19M', '10,000+', 'Free', '0', 'Everyone', 'Art & Design', 'January 7, 2018', '1.0.0', '4.0.3 and up']\n",
      "\n",
      "\n",
      "['U Launcher Lite â\\x80\\x93 FREE Live Cool Themes, Hide Apps', 'ART_AND_DESIGN', '4.7', '87510', '8.7M', '5,000,000+', 'Free', '0', 'Everyone', 'Art & Design', 'August 1, 2018', '1.2.4', '4.0.3 and up']\n",
      "\n",
      "\n",
      "['Sketch - Draw & Paint', 'ART_AND_DESIGN', '4.5', '215644', '25M', '50,000,000+', 'Free', '0', 'Teen', 'Art & Design', 'June 8, 2018', 'Varies with device', '4.2 and up']\n",
      "\n",
      "\n",
      "Number of rows: 9659\n",
      "Number of columns: 13\n"
     ]
    }
   ],
   "source": [
    "explore_data(android_clean, 0, 3, True) "
   ]
  },
  {
   "cell_type": "markdown",
   "metadata": {},
   "source": [
    "# Removing non-english apps"
   ]
  },
  {
   "cell_type": "markdown",
   "metadata": {},
   "source": [
    "If we explore the data sets, we can see, there are apps not directed towards english-speaking audience. Below are some examples:"
   ]
  },
  {
   "cell_type": "code",
   "execution_count": 12,
   "metadata": {},
   "outputs": [
    {
     "name": "stdout",
     "output_type": "stream",
     "text": [
      "ç±å¥èºPPS -ãæ¬¢ä¹é¢2ãçµè§å§ç­æ­\n",
      "ãè±åºã²ã¼ã ãçµ¶å¯¾ã«æå¾ã¾ã§ãã¬ã¤ããªãã§ ãè¬è§£ãï¼ãã­ãã¯ããºã«ã\n",
      "ä¸­å½èª AQãªã¹ãã³ã°\n",
      "ÙØ¹Ø¨Ø© ØªÙØ¯Ø± ØªØ±Ø¨Ø­ DZ\n"
     ]
    }
   ],
   "source": [
    "print(ios[813][1])\n",
    "print(ios[6731][1])\n",
    "\n",
    "print(android_clean[4412][0])\n",
    "print(android_clean[7940][0])"
   ]
  },
  {
   "cell_type": "markdown",
   "metadata": {},
   "source": [
    "We are not interested in this kind of apps, so we'll remove them. All characters used in English are encoded using the ASCII standard. Each ASCII character has a corresponding number between 0 and 127. We can build a function using a build-in function `ord()` to check if the app name consists of only ASCII characters."
   ]
  },
  {
   "cell_type": "code",
   "execution_count": 13,
   "metadata": {},
   "outputs": [
    {
     "name": "stdout",
     "output_type": "stream",
     "text": [
      "True\n",
      "False\n"
     ]
    }
   ],
   "source": [
    "def is_english(word):\n",
    "    \n",
    "    for letter in word:\n",
    "        if ord(letter) > 127:\n",
    "            return False\n",
    "    return True\n",
    "print(is_english('Instachat'))\n",
    "print(is_english(ios[813][1]))"
   ]
  },
  {
   "cell_type": "markdown",
   "metadata": {},
   "source": [
    "The function seems to work fine, but some of English apps names contain emojis and other symbols that fall outside ASCII range."
   ]
  },
  {
   "cell_type": "code",
   "execution_count": 14,
   "metadata": {},
   "outputs": [
    {
     "name": "stdout",
     "output_type": "stream",
     "text": [
      "False\n",
      "False\n",
      "8482\n",
      "128540\n"
     ]
    }
   ],
   "source": [
    "print(is_english('Docs To Go™ Free Office Suite'))\n",
    "print(is_english('Instachat 😜'))\n",
    "\n",
    "print(ord('™'))\n",
    "print(ord('😜'))"
   ]
  },
  {
   "cell_type": "markdown",
   "metadata": {},
   "source": [
    "To avoid removing that apps, I'll make a condition, that app is only removed, when its name contains more than 3 non ASCII characters."
   ]
  },
  {
   "cell_type": "code",
   "execution_count": 15,
   "metadata": {},
   "outputs": [
    {
     "name": "stdout",
     "output_type": "stream",
     "text": [
      "True\n",
      "True\n",
      "False\n"
     ]
    }
   ],
   "source": [
    "def is_english(word):\n",
    "    count = 0\n",
    "    \n",
    "    for letter in word:\n",
    "        if ord(letter) > 127:\n",
    "            count += 1\n",
    "    \n",
    "    if count > 3:    \n",
    "        return False\n",
    "    else:\n",
    "        return True\n",
    "print(is_english('Instachat 😜'))\n",
    "print(is_english('Docs To Go™ Free Office Suite'))\n",
    "print(is_english('爱奇艺PPS -《欢乐颂2》电视剧热播'))"
   ]
  },
  {
   "cell_type": "markdown",
   "metadata": {},
   "source": [
    "The condition is not perfect, but only few non-english apps can get through that filter, which should be sufficient for further analysis."
   ]
  },
  {
   "cell_type": "markdown",
   "metadata": {},
   "source": [
    "Below we use the `is_english()` function to filter out the non-English apps from both data sets."
   ]
  },
  {
   "cell_type": "code",
   "execution_count": 16,
   "metadata": {},
   "outputs": [
    {
     "name": "stdout",
     "output_type": "stream",
     "text": [
      "number of English and non-English android apps: 9659 \n",
      "number of English and non-English ios apps: 7197\n",
      "number of Enlish android apps: 9500\n",
      "number of English ios apps: 6100\n"
     ]
    }
   ],
   "source": [
    "android_english = []\n",
    "ios_english = []\n",
    "\n",
    "for app in android_clean:\n",
    "    name = app[0]\n",
    "    if is_english(name):\n",
    "        android_english.append(app)\n",
    "        \n",
    "for app in ios:\n",
    "    name = app[1]\n",
    "    if is_english(name):\n",
    "        ios_english.append(app)\n",
    "\n",
    "print('number of English and non-English android apps:',len(android_clean),'\\n'\n",
    "'number of English and non-English ios apps:',len(ios))\n",
    "print('number of Enlish android apps:',len(android_english))\n",
    "print('number of English ios apps:',len(ios_english))        "
   ]
  },
  {
   "cell_type": "markdown",
   "metadata": {},
   "source": [
    "# Isolating free apps"
   ]
  },
  {
   "cell_type": "markdown",
   "metadata": {},
   "source": [
    "As mentioned in the introduction, we only develop apps, that are free to download and install, and our main source of revenue consists of in-app ads. Our data sets contain both free and non-free aps and we'll need to isolate the free aps for our analysis."
   ]
  },
  {
   "cell_type": "code",
   "execution_count": 17,
   "metadata": {},
   "outputs": [
    {
     "name": "stdout",
     "output_type": "stream",
     "text": [
      "8760\n",
      "3169\n"
     ]
    }
   ],
   "source": [
    "android_final = []\n",
    "ios_final = []\n",
    "\n",
    "for app in android_english:\n",
    "    price = app[7]\n",
    "    if price == '0':\n",
    "        android_final.append(app)\n",
    "\n",
    "for app in ios_english:\n",
    "    price = app[4]\n",
    "    if price == '0.0':\n",
    "        ios_final.append(app)\n",
    "\n",
    "print(len(android_final))\n",
    "print(len(ios_final))"
   ]
  },
  {
   "cell_type": "markdown",
   "metadata": {},
   "source": [
    "We are left with 8760 android and 3169 ios apps."
   ]
  },
  {
   "cell_type": "markdown",
   "metadata": {},
   "source": [
    "# Most common apps  by genre"
   ]
  },
  {
   "cell_type": "markdown",
   "metadata": {},
   "source": [
    "\n",
    "\n",
    "def freq_table(dataset, index):\n",
    "    table = {}\n",
    "    total = 0\n",
    "    \n",
    "    for row in dataset:\n",
    "        total += 1\n",
    "        value = row[index]\n",
    "        if value in table:\n",
    "            table[value] += 1\n",
    "        else:\n",
    "            table[value] = 1\n",
    "    \n",
    "    table_percentages = {}\n",
    "    for key in table:\n",
    "        percentage = (table[key] / total) * 100\n",
    "        table_percentages[key] = percentage \n",
    "    \n",
    "    return table_percentages\n",
    "\n",
    "def display_table(dataset, index):\n",
    "    table = freq_table(dataset, index)\n",
    "    table_display = []\n",
    "    for key in table:\n",
    "        key_val_as_tuple = (table[key], key)\n",
    "        table_display.append(key_val_as_tuple)\n",
    "\n",
    "    table_sorted = sorted(table_display, reverse = True)\n",
    "    for entry in table_sorted:\n",
    "        print(entry[1], ':', entry[0])\n",
    "\n",
    "display_table(ios_final, -5)"
   ]
  },
  {
   "cell_type": "markdown",
   "metadata": {},
   "source": [
    "We'll start by creating 2 functions. One creating a frequency table and second one displaying the frequency table in descending order."
   ]
  },
  {
   "cell_type": "code",
   "execution_count": 18,
   "metadata": {},
   "outputs": [],
   "source": [
    "def freq_table(dataset, index):\n",
    "    table = {}\n",
    "    total = 0\n",
    "    \n",
    "    for row in dataset:\n",
    "        total += 1\n",
    "        value = row[index]\n",
    "        if value in table:\n",
    "            table[value] += 1\n",
    "        else:\n",
    "            table[value] = 1\n",
    "    \n",
    "    table_percentages = {}\n",
    "    for key in table:\n",
    "        percentage = (table[key] / total) * 100\n",
    "        table_percentages[key] = percentage \n",
    "    \n",
    "    return table_percentages\n",
    "\n",
    "def display_table(dataset, index):\n",
    "    table = freq_table(dataset, index)\n",
    "    table_display = []\n",
    "    for key in table:\n",
    "        key_val_as_tuple = (table[key], key)\n",
    "        table_display.append(key_val_as_tuple)\n",
    "\n",
    "    table_sorted = sorted(table_display, reverse = True)\n",
    "    for entry in table_sorted:\n",
    "        print(entry[1], ':', entry[0])"
   ]
  },
  {
   "cell_type": "markdown",
   "metadata": {},
   "source": [
    "This is how the frequency table looks like for App Store `prime_genre` column"
   ]
  },
  {
   "cell_type": "code",
   "execution_count": 19,
   "metadata": {},
   "outputs": [
    {
     "name": "stdout",
     "output_type": "stream",
     "text": [
      "Games : 58.53581571473651\n",
      "Entertainment : 7.82581255916693\n",
      "Photo & Video : 5.0489113284947935\n",
      "Education : 3.72357210476491\n",
      "Social Networking : 3.2817923635216157\n",
      "Shopping : 2.5244556642473968\n",
      "Utilities : 2.398232881035027\n",
      "Sports : 2.1773430104133795\n",
      "Music : 2.0511202272010096\n",
      "Health & Fitness : 1.9880088355948247\n",
      "Productivity : 1.7040075733669928\n",
      "Lifestyle : 1.5462290943515304\n",
      "News : 1.3253392237298833\n",
      "Travel : 1.1360050489113285\n",
      "Finance : 1.1044493531082362\n",
      "Weather : 0.8520037866834964\n",
      "Food & Drink : 0.8204480908804039\n",
      "Reference : 0.5364468286525718\n",
      "Business : 0.5364468286525718\n",
      "Book : 0.3786683496371095\n",
      "Navigation : 0.18933417481855475\n",
      "Medical : 0.18933417481855475\n",
      "Catalogs : 0.12622278321236985\n"
     ]
    }
   ],
   "source": [
    "display_table(ios_final,-5)"
   ]
  },
  {
   "cell_type": "markdown",
   "metadata": {},
   "source": [
    "We can see that among the free English apps, more than a half (58.16%) are games. Entertainment apps are close to 8%, followed by photo and video apps, which are close to 5%. Only 3.66% of the apps are designed for education, followed by social networking apps which amount for 3.29% of the apps in our data set."
   ]
  },
  {
   "cell_type": "markdown",
   "metadata": {},
   "source": [
    "Let's continue by examining the Genres and Category columns of the Google Play data set (two columns which seem to be related)."
   ]
  },
  {
   "cell_type": "code",
   "execution_count": 20,
   "metadata": {},
   "outputs": [
    {
     "name": "stdout",
     "output_type": "stream",
     "text": [
      "FAMILY : 18.938356164383563\n",
      "GAME : 9.657534246575343\n",
      "TOOLS : 8.481735159817351\n",
      "BUSINESS : 4.646118721461187\n",
      "PRODUCTIVITY : 3.9383561643835616\n",
      "LIFESTYLE : 3.9155251141552516\n",
      "FINANCE : 3.721461187214612\n",
      "MEDICAL : 3.550228310502283\n",
      "SPORTS : 3.3333333333333335\n",
      "PERSONALIZATION : 3.287671232876712\n",
      "COMMUNICATION : 3.2534246575342465\n",
      "HEALTH_AND_FITNESS : 3.093607305936073\n",
      "PHOTOGRAPHY : 2.9794520547945202\n",
      "NEWS_AND_MAGAZINES : 2.808219178082192\n",
      "SOCIAL : 2.6484018264840183\n",
      "TRAVEL_AND_LOCAL : 2.3401826484018264\n",
      "SHOPPING : 2.2488584474885847\n",
      "BOOKS_AND_REFERENCE : 2.146118721461187\n",
      "DATING : 1.860730593607306\n",
      "VIDEO_PLAYERS : 1.8036529680365299\n",
      "MAPS_AND_NAVIGATION : 1.3812785388127853\n",
      "FOOD_AND_DRINK : 1.2328767123287672\n",
      "EDUCATION : 1.1757990867579908\n",
      "ENTERTAINMENT : 0.9589041095890412\n",
      "AUTO_AND_VEHICLES : 0.9246575342465754\n",
      "LIBRARIES_AND_DEMO : 0.9018264840182649\n",
      "WEATHER : 0.7876712328767124\n",
      "HOUSE_AND_HOME : 0.7876712328767124\n",
      "EVENTS : 0.7191780821917808\n",
      "ART_AND_DESIGN : 0.6506849315068494\n",
      "PARENTING : 0.6392694063926941\n",
      "BEAUTY : 0.6050228310502284\n",
      "COMICS : 0.5821917808219178\n"
     ]
    }
   ],
   "source": [
    "display_table(android_final, 1) # Category"
   ]
  },
  {
   "cell_type": "markdown",
   "metadata": {},
   "source": [
    "The results seem to be different on Google Play. The most popular category is family (18.94%), followed by game (9.66%), tools (8.48%) and business (4.64). Practical apps have much higher representation on Google Play compared to App store. This picture is also confirmed in the `genres` column"
   ]
  },
  {
   "cell_type": "code",
   "execution_count": 21,
   "metadata": {},
   "outputs": [
    {
     "name": "stdout",
     "output_type": "stream",
     "text": [
      "Tools : 8.470319634703197\n",
      "Entertainment : 6.084474885844749\n",
      "Education : 5.3881278538812785\n",
      "Business : 4.646118721461187\n",
      "Productivity : 3.9383561643835616\n",
      "Lifestyle : 3.904109589041096\n",
      "Finance : 3.721461187214612\n",
      "Medical : 3.550228310502283\n",
      "Sports : 3.4018264840182644\n",
      "Personalization : 3.287671232876712\n",
      "Communication : 3.2534246575342465\n",
      "Action : 3.105022831050228\n",
      "Health & Fitness : 3.093607305936073\n",
      "Photography : 2.9794520547945202\n",
      "News & Magazines : 2.808219178082192\n",
      "Social : 2.6484018264840183\n",
      "Travel & Local : 2.328767123287671\n",
      "Shopping : 2.2488584474885847\n",
      "Books & Reference : 2.146118721461187\n",
      "Simulation : 2.054794520547945\n",
      "Dating : 1.860730593607306\n",
      "Arcade : 1.82648401826484\n",
      "Video Players & Editors : 1.7808219178082192\n",
      "Casual : 1.7351598173515983\n",
      "Maps & Navigation : 1.3812785388127853\n",
      "Food & Drink : 1.2328767123287672\n",
      "Puzzle : 1.141552511415525\n",
      "Racing : 1.004566210045662\n",
      "Role Playing : 0.9474885844748858\n",
      "Strategy : 0.9246575342465754\n",
      "Auto & Vehicles : 0.9246575342465754\n",
      "Libraries & Demo : 0.9018264840182649\n",
      "Weather : 0.7876712328767124\n",
      "House & Home : 0.7876712328767124\n",
      "Events : 0.7191780821917808\n",
      "Adventure : 0.6621004566210046\n",
      "Beauty : 0.6050228310502284\n",
      "Art & Design : 0.6050228310502284\n",
      "Comics : 0.5707762557077625\n",
      "Parenting : 0.4908675799086758\n",
      "Card : 0.4452054794520548\n",
      "Casino : 0.410958904109589\n",
      "Trivia : 0.3995433789954338\n",
      "Educational;Education : 0.3995433789954338\n",
      "Board : 0.3881278538812785\n",
      "Educational : 0.3767123287671233\n",
      "Education;Education : 0.3424657534246575\n",
      "Word : 0.2511415525114155\n",
      "Casual;Pretend Play : 0.2397260273972603\n",
      "Music : 0.19406392694063926\n",
      "Puzzle;Brain Games : 0.17123287671232876\n",
      "Entertainment;Music & Video : 0.17123287671232876\n",
      "Racing;Action & Adventure : 0.14840182648401826\n",
      "Casual;Brain Games : 0.136986301369863\n",
      "Casual;Action & Adventure : 0.136986301369863\n",
      "Arcade;Action & Adventure : 0.12557077625570776\n",
      "Action;Action & Adventure : 0.10273972602739725\n",
      "Educational;Pretend Play : 0.091324200913242\n",
      "Simulation;Action & Adventure : 0.07990867579908677\n",
      "Parenting;Education : 0.07990867579908677\n",
      "Entertainment;Brain Games : 0.07990867579908677\n",
      "Casual;Creativity : 0.0684931506849315\n",
      "Art & Design;Creativity : 0.0684931506849315\n",
      "Parenting;Music & Video : 0.05707762557077625\n",
      "Educational;Brain Games : 0.05707762557077625\n",
      "Education;Pretend Play : 0.05707762557077625\n",
      "Board;Brain Games : 0.05707762557077625\n",
      "Role Playing;Pretend Play : 0.045662100456621\n",
      "Education;Creativity : 0.045662100456621\n",
      "Role Playing;Action & Adventure : 0.03424657534246575\n",
      "Puzzle;Action & Adventure : 0.03424657534246575\n",
      "Entertainment;Creativity : 0.03424657534246575\n",
      "Entertainment;Action & Adventure : 0.03424657534246575\n",
      "Educational;Creativity : 0.03424657534246575\n",
      "Educational;Action & Adventure : 0.03424657534246575\n",
      "Education;Music & Video : 0.03424657534246575\n",
      "Education;Brain Games : 0.03424657534246575\n",
      "Education;Action & Adventure : 0.03424657534246575\n",
      "Adventure;Action & Adventure : 0.03424657534246575\n",
      "Video Players & Editors;Music & Video : 0.0228310502283105\n",
      "Sports;Action & Adventure : 0.0228310502283105\n",
      "Simulation;Pretend Play : 0.0228310502283105\n",
      "Puzzle;Creativity : 0.0228310502283105\n",
      "Music;Music & Video : 0.0228310502283105\n",
      "Entertainment;Pretend Play : 0.0228310502283105\n",
      "Casual;Education : 0.0228310502283105\n",
      "Board;Action & Adventure : 0.0228310502283105\n",
      "Video Players & Editors;Creativity : 0.01141552511415525\n",
      "Trivia;Education : 0.01141552511415525\n",
      "Travel & Local;Action & Adventure : 0.01141552511415525\n",
      "Tools;Education : 0.01141552511415525\n",
      "Strategy;Education : 0.01141552511415525\n",
      "Strategy;Creativity : 0.01141552511415525\n",
      "Strategy;Action & Adventure : 0.01141552511415525\n",
      "Simulation;Education : 0.01141552511415525\n",
      "Role Playing;Brain Games : 0.01141552511415525\n",
      "Racing;Pretend Play : 0.01141552511415525\n",
      "Puzzle;Education : 0.01141552511415525\n",
      "Parenting;Brain Games : 0.01141552511415525\n",
      "Music & Audio;Music & Video : 0.01141552511415525\n",
      "Lifestyle;Pretend Play : 0.01141552511415525\n",
      "Lifestyle;Education : 0.01141552511415525\n",
      "Health & Fitness;Education : 0.01141552511415525\n",
      "Health & Fitness;Action & Adventure : 0.01141552511415525\n",
      "Entertainment;Education : 0.01141552511415525\n",
      "Communication;Creativity : 0.01141552511415525\n",
      "Comics;Creativity : 0.01141552511415525\n",
      "Card;Action & Adventure : 0.01141552511415525\n",
      "Books & Reference;Education : 0.01141552511415525\n",
      "Art & Design;Pretend Play : 0.01141552511415525\n",
      "Art & Design;Action & Adventure : 0.01141552511415525\n",
      "Arcade;Pretend Play : 0.01141552511415525\n",
      "Adventure;Education : 0.01141552511415525\n"
     ]
    }
   ],
   "source": [
    "display_table(android_final, -4) # Genre"
   ]
  },
  {
   "cell_type": "markdown",
   "metadata": {},
   "source": [
    "For further analysis I'll use only the *category* column, because it has less categories and gives a bigger picture."
   ]
  },
  {
   "cell_type": "markdown",
   "metadata": {},
   "source": [
    "One way to find out which genre is the most popular is to calculate the average number of installs per app in category. In Google Play dataset we can find it in *Installs* column. For the App Store dataset, this column is missing, so I'll use the number of ratings as an evaluation."
   ]
  },
  {
   "cell_type": "markdown",
   "metadata": {},
   "source": [
    "# Most popular apps by genre on App Store"
   ]
  },
  {
   "cell_type": "markdown",
   "metadata": {},
   "source": [
    "Below, we calculate the average number of user ratings per app genre on the App Store:"
   ]
  },
  {
   "cell_type": "code",
   "execution_count": 22,
   "metadata": {},
   "outputs": [
    {
     "name": "stdout",
     "output_type": "stream",
     "text": [
      "Social Networking : 72916.54807692308\n",
      "Photo & Video : 28441.54375\n",
      "Games : 22985.211320754715\n",
      "Music : 58205.03076923077\n",
      "Reference : 79350.4705882353\n",
      "Health & Fitness : 24037.634920634922\n",
      "Weather : 54215.2962962963\n",
      "Utilities : 19900.473684210527\n",
      "Travel : 31358.5\n",
      "Shopping : 27816.2\n",
      "News : 21750.071428571428\n",
      "Navigation : 86090.33333333333\n",
      "Lifestyle : 16739.34693877551\n",
      "Entertainment : 14364.774193548386\n",
      "Food & Drink : 33333.92307692308\n",
      "Sports : 23008.898550724636\n",
      "Book : 46384.916666666664\n",
      "Finance : 32367.02857142857\n",
      "Education : 7003.983050847458\n",
      "Productivity : 21799.14814814815\n",
      "Business : 7491.117647058823\n",
      "Catalogs : 4004.0\n",
      "Medical : 612.0\n"
     ]
    }
   ],
   "source": [
    "genres_ios = freq_table(ios_final,-5)\n",
    "\n",
    "for genre in genres_ios:\n",
    "    len_genre = 0\n",
    "    total = 0\n",
    "    for app in ios_final:\n",
    "        genre_app = app[-5]\n",
    "        if genre_app == genre:\n",
    "            total += float(app[5])\n",
    "            len_genre += 1\n",
    "    avg_ratings = total / len_genre\n",
    "    print(genre,':',avg_ratings)"
   ]
  },
  {
   "cell_type": "markdown",
   "metadata": {},
   "source": [
    "# Most popular apps by genre on Google Play"
   ]
  },
  {
   "cell_type": "markdown",
   "metadata": {},
   "source": [
    "For the Google Play dataset we got actual information about number of installs, but the values are open ended and don't seem to be precise"
   ]
  },
  {
   "cell_type": "code",
   "execution_count": 23,
   "metadata": {},
   "outputs": [
    {
     "name": "stdout",
     "output_type": "stream",
     "text": [
      "1,000,000+ : 15.74200913242009\n",
      "100,000+ : 11.518264840182649\n",
      "10,000,000+ : 10.60502283105023\n",
      "10,000+ : 10.205479452054794\n",
      "1,000+ : 8.367579908675799\n",
      "100+ : 6.952054794520548\n",
      "5,000,000+ : 6.872146118721462\n",
      "500,000+ : 5.5479452054794525\n",
      "50,000+ : 4.7716894977168955\n",
      "5,000+ : 4.486301369863014\n",
      "10+ : 3.515981735159817\n",
      "500+ : 3.2077625570776256\n",
      "50,000,000+ : 2.28310502283105\n",
      "100,000,000+ : 2.134703196347032\n",
      "50+ : 1.9292237442922375\n",
      "5+ : 0.7876712328767124\n",
      "1+ : 0.5136986301369862\n",
      "500,000,000+ : 0.273972602739726\n",
      "1,000,000,000+ : 0.228310502283105\n",
      "0+ : 0.045662100456621\n",
      "0 : 0.01141552511415525\n"
     ]
    }
   ],
   "source": [
    "display_table(android_final, 5)"
   ]
  },
  {
   "cell_type": "markdown",
   "metadata": {},
   "source": [
    "We're going to leave the numbers as they are, which means that we'll consider that an app with 100,000+ installs has 100,000 installs, and an app with 1,000,000+ installs has 1,000,000 installs, and so on.\n",
    "To do the computations we'll need to convert each number to float."
   ]
  },
  {
   "cell_type": "code",
   "execution_count": 24,
   "metadata": {},
   "outputs": [
    {
     "name": "stdout",
     "output_type": "stream",
     "text": [
      "ART_AND_DESIGN : 1986335.0877192982\n",
      "AUTO_AND_VEHICLES : 654074.8271604938\n",
      "BEAUTY : 513151.88679245283\n",
      "BOOKS_AND_REFERENCE : 8329168.936170213\n",
      "BUSINESS : 1712290.1474201474\n",
      "COMICS : 859042.1568627451\n",
      "COMMUNICATION : 38550548.03859649\n",
      "DATING : 861409.5521472392\n",
      "EDUCATION : 1833495.145631068\n",
      "ENTERTAINMENT : 11767380.952380951\n",
      "EVENTS : 253542.22222222222\n",
      "FINANCE : 1365500.4049079753\n",
      "FOOD_AND_DRINK : 1951283.8055555555\n",
      "HEALTH_AND_FITNESS : 4219697.055350553\n",
      "HOUSE_AND_HOME : 1385541.463768116\n",
      "LIBRARIES_AND_DEMO : 649314.0506329114\n",
      "LIFESTYLE : 1447458.976676385\n",
      "GAME : 15571586.690307328\n",
      "FAMILY : 3716053.755274262\n",
      "MEDICAL : 121161.87781350482\n",
      "SOCIAL : 23628689.23275862\n",
      "SHOPPING : 7103190.78680203\n",
      "PHOTOGRAPHY : 17840110.40229885\n",
      "SPORTS : 3750580.6438356163\n",
      "TRAVEL_AND_LOCAL : 14120454.07804878\n",
      "TOOLS : 10902378.834454913\n",
      "PERSONALIZATION : 5240358.986111111\n",
      "PRODUCTIVITY : 16787331.344927534\n",
      "PARENTING : 552875.1785714285\n",
      "WEATHER : 5212877.101449275\n",
      "VIDEO_PLAYERS : 24878048.860759493\n",
      "NEWS_AND_MAGAZINES : 9626407.357723577\n",
      "MAPS_AND_NAVIGATION : 4115374.214876033\n"
     ]
    }
   ],
   "source": [
    "categories_android = freq_table(android_final,1)\n",
    "\n",
    "for category in categories_android:\n",
    "    total = 0\n",
    "    len_category = 0\n",
    "    for app in android_final:\n",
    "        category_app = app[1]\n",
    "        if category_app == category:\n",
    "            len_category += 1\n",
    "            installs = app[5]\n",
    "            installs = installs.replace(\"+\",\"\")\n",
    "            installs = installs.replace(\",\",\"\")\n",
    "            total += float(installs)\n",
    "    avg_installs = total / len_category\n",
    "    print(category, ':', avg_installs)\n",
    "            "
   ]
  },
  {
   "cell_type": "markdown",
   "metadata": {},
   "source": [
    "On average, communication apps have the most installs: 38,456,119. This number is inflated by a few apps that have over one billion installs (WhatsApp, Facebook Messenger, Skype, Google Chrome, Gmail, and Hangouts), and a few others with over 100 and 500 million installs:"
   ]
  },
  {
   "cell_type": "code",
   "execution_count": 25,
   "metadata": {},
   "outputs": [
    {
     "name": "stdout",
     "output_type": "stream",
     "text": [
      "WhatsApp Messenger : 1,000,000,000+\n",
      "imo beta free calls and text : 100,000,000+\n",
      "Android Messages : 100,000,000+\n",
      "Google Duo - High Quality Video Calls : 500,000,000+\n",
      "Messenger â Text and Video Chat for Free : 1,000,000,000+\n",
      "imo free video calls and chat : 500,000,000+\n",
      "Skype - free IM & video calls : 1,000,000,000+\n",
      "Who : 100,000,000+\n",
      "GO SMS Pro - Messenger, Free Themes, Emoji : 100,000,000+\n",
      "LINE: Free Calls & Messages : 500,000,000+\n",
      "Google Chrome: Fast & Secure : 1,000,000,000+\n",
      "Firefox Browser fast & private : 100,000,000+\n",
      "UC Browser - Fast Download Private & Secure : 500,000,000+\n",
      "Gmail : 1,000,000,000+\n",
      "Hangouts : 1,000,000,000+\n",
      "Messenger Lite: Free Calls & Messages : 100,000,000+\n",
      "Kik : 100,000,000+\n",
      "KakaoTalk: Free Calls & Text : 100,000,000+\n",
      "Opera Mini - fast web browser : 100,000,000+\n",
      "Opera Browser: Fast and Secure : 100,000,000+\n",
      "Telegram : 100,000,000+\n",
      "Truecaller: Caller ID, SMS spam blocking & Dialer : 100,000,000+\n",
      "UC Browser Mini -Tiny Fast Private & Secure : 100,000,000+\n",
      "Viber Messenger : 500,000,000+\n",
      "WeChat : 100,000,000+\n",
      "Yahoo Mail â Stay Organized : 100,000,000+\n",
      "BBM - Free Calls & Messages : 100,000,000+\n"
     ]
    }
   ],
   "source": [
    "for app in android_final:\n",
    "    if app[1] == 'COMMUNICATION' and (app[5] == '1,000,000,000+'\n",
    "                                      or app[5] == '500,000,000+'\n",
    "                                      or app[5] == '100,000,000+'):\n",
    "        print(app[0], ':', app[5])"
   ]
  },
  {
   "cell_type": "markdown",
   "metadata": {},
   "source": [
    "If we remove all the communication apps that have over 100 million installs, the average is reduced"
   ]
  },
  {
   "cell_type": "code",
   "execution_count": 26,
   "metadata": {},
   "outputs": [
    {
     "data": {
      "text/plain": [
       "3437620.895348837"
      ]
     },
     "execution_count": 26,
     "metadata": {},
     "output_type": "execute_result"
    }
   ],
   "source": [
    "under_100_m = []\n",
    "\n",
    "for app in android_final:\n",
    "    n_installs = app[5]\n",
    "    n_installs = n_installs.replace(',', '')\n",
    "    n_installs = n_installs.replace('+', '')\n",
    "    if (app[1] == 'COMMUNICATION') and (float(n_installs) < 100000000):\n",
    "        under_100_m.append(float(n_installs))\n",
    "        \n",
    "sum(under_100_m) / len(under_100_m)"
   ]
  }
 ],
 "metadata": {
  "kernelspec": {
   "display_name": "Python 3",
   "language": "python",
   "name": "python3"
  },
  "language_info": {
   "codemirror_mode": {
    "name": "ipython",
    "version": 3
   },
   "file_extension": ".py",
   "mimetype": "text/x-python",
   "name": "python",
   "nbconvert_exporter": "python",
   "pygments_lexer": "ipython3",
   "version": "3.8.5"
  }
 },
 "nbformat": 4,
 "nbformat_minor": 2
}
